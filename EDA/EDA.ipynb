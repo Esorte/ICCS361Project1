{
 "cells": [
  {
   "cell_type": "markdown",
   "metadata": {},
   "source": [
    "Question:\n",
    "- How many times do people view the item before purchase.\n",
    "- what time and what day have the highest traffic of people viewing products\n",
    "- what date have the most sales and least sales.\n",
    "- How loyal are people to a brand. (How often the same individual repurchases an items from the same brand.)\n",
    "- When the person purchased the item, what other item did the person also purchase at the same time? (using the association rules)"
   ]
  },
  {
   "cell_type": "code",
   "execution_count": 2,
   "metadata": {},
   "outputs": [],
   "source": [
    "import numpy as np \n",
    "import pandas as pd \n",
    "from sklearn.preprocessing import LabelEncoder, OneHotEncoder\n",
    "from sklearn.preprocessing import StandardScaler\n",
    "import matplotlib.pyplot as plt"
   ]
  },
  {
   "cell_type": "code",
   "execution_count": 3,
   "metadata": {},
   "outputs": [
    {
     "ename": "ParserError",
     "evalue": "Error tokenizing data. C error: Calling read(nbytes) on source failed. Try engine='python'.",
     "output_type": "error",
     "traceback": [
      "\u001b[0;31m---------------------------------------------------------------------------\u001b[0m",
      "\u001b[0;31mParserError\u001b[0m                               Traceback (most recent call last)",
      "Cell \u001b[0;32mIn[3], line 1\u001b[0m\n\u001b[0;32m----> 1\u001b[0m df \u001b[38;5;241m=\u001b[39m pd\u001b[38;5;241m.\u001b[39mread_csv(\u001b[38;5;124m'\u001b[39m\u001b[38;5;124m/Users/krits/Documents/GitHub/ICCS361Project1/DATA/2019-Oct.csv\u001b[39m\u001b[38;5;124m'\u001b[39m)\n\u001b[1;32m      2\u001b[0m df\n",
      "File \u001b[0;32m/opt/anaconda3/lib/python3.11/site-packages/pandas/io/parsers/readers.py:948\u001b[0m, in \u001b[0;36mread_csv\u001b[0;34m(filepath_or_buffer, sep, delimiter, header, names, index_col, usecols, dtype, engine, converters, true_values, false_values, skipinitialspace, skiprows, skipfooter, nrows, na_values, keep_default_na, na_filter, verbose, skip_blank_lines, parse_dates, infer_datetime_format, keep_date_col, date_parser, date_format, dayfirst, cache_dates, iterator, chunksize, compression, thousands, decimal, lineterminator, quotechar, quoting, doublequote, escapechar, comment, encoding, encoding_errors, dialect, on_bad_lines, delim_whitespace, low_memory, memory_map, float_precision, storage_options, dtype_backend)\u001b[0m\n\u001b[1;32m    935\u001b[0m kwds_defaults \u001b[38;5;241m=\u001b[39m _refine_defaults_read(\n\u001b[1;32m    936\u001b[0m     dialect,\n\u001b[1;32m    937\u001b[0m     delimiter,\n\u001b[0;32m   (...)\u001b[0m\n\u001b[1;32m    944\u001b[0m     dtype_backend\u001b[38;5;241m=\u001b[39mdtype_backend,\n\u001b[1;32m    945\u001b[0m )\n\u001b[1;32m    946\u001b[0m kwds\u001b[38;5;241m.\u001b[39mupdate(kwds_defaults)\n\u001b[0;32m--> 948\u001b[0m \u001b[38;5;28;01mreturn\u001b[39;00m _read(filepath_or_buffer, kwds)\n",
      "File \u001b[0;32m/opt/anaconda3/lib/python3.11/site-packages/pandas/io/parsers/readers.py:617\u001b[0m, in \u001b[0;36m_read\u001b[0;34m(filepath_or_buffer, kwds)\u001b[0m\n\u001b[1;32m    614\u001b[0m     \u001b[38;5;28;01mreturn\u001b[39;00m parser\n\u001b[1;32m    616\u001b[0m \u001b[38;5;28;01mwith\u001b[39;00m parser:\n\u001b[0;32m--> 617\u001b[0m     \u001b[38;5;28;01mreturn\u001b[39;00m parser\u001b[38;5;241m.\u001b[39mread(nrows)\n",
      "File \u001b[0;32m/opt/anaconda3/lib/python3.11/site-packages/pandas/io/parsers/readers.py:1748\u001b[0m, in \u001b[0;36mTextFileReader.read\u001b[0;34m(self, nrows)\u001b[0m\n\u001b[1;32m   1741\u001b[0m nrows \u001b[38;5;241m=\u001b[39m validate_integer(\u001b[38;5;124m\"\u001b[39m\u001b[38;5;124mnrows\u001b[39m\u001b[38;5;124m\"\u001b[39m, nrows)\n\u001b[1;32m   1742\u001b[0m \u001b[38;5;28;01mtry\u001b[39;00m:\n\u001b[1;32m   1743\u001b[0m     \u001b[38;5;66;03m# error: \"ParserBase\" has no attribute \"read\"\u001b[39;00m\n\u001b[1;32m   1744\u001b[0m     (\n\u001b[1;32m   1745\u001b[0m         index,\n\u001b[1;32m   1746\u001b[0m         columns,\n\u001b[1;32m   1747\u001b[0m         col_dict,\n\u001b[0;32m-> 1748\u001b[0m     ) \u001b[38;5;241m=\u001b[39m \u001b[38;5;28mself\u001b[39m\u001b[38;5;241m.\u001b[39m_engine\u001b[38;5;241m.\u001b[39mread(  \u001b[38;5;66;03m# type: ignore[attr-defined]\u001b[39;00m\n\u001b[1;32m   1749\u001b[0m         nrows\n\u001b[1;32m   1750\u001b[0m     )\n\u001b[1;32m   1751\u001b[0m \u001b[38;5;28;01mexcept\u001b[39;00m \u001b[38;5;167;01mException\u001b[39;00m:\n\u001b[1;32m   1752\u001b[0m     \u001b[38;5;28mself\u001b[39m\u001b[38;5;241m.\u001b[39mclose()\n",
      "File \u001b[0;32m/opt/anaconda3/lib/python3.11/site-packages/pandas/io/parsers/c_parser_wrapper.py:234\u001b[0m, in \u001b[0;36mCParserWrapper.read\u001b[0;34m(self, nrows)\u001b[0m\n\u001b[1;32m    232\u001b[0m \u001b[38;5;28;01mtry\u001b[39;00m:\n\u001b[1;32m    233\u001b[0m     \u001b[38;5;28;01mif\u001b[39;00m \u001b[38;5;28mself\u001b[39m\u001b[38;5;241m.\u001b[39mlow_memory:\n\u001b[0;32m--> 234\u001b[0m         chunks \u001b[38;5;241m=\u001b[39m \u001b[38;5;28mself\u001b[39m\u001b[38;5;241m.\u001b[39m_reader\u001b[38;5;241m.\u001b[39mread_low_memory(nrows)\n\u001b[1;32m    235\u001b[0m         \u001b[38;5;66;03m# destructive to chunks\u001b[39;00m\n\u001b[1;32m    236\u001b[0m         data \u001b[38;5;241m=\u001b[39m _concatenate_chunks(chunks)\n",
      "File \u001b[0;32mparsers.pyx:843\u001b[0m, in \u001b[0;36mpandas._libs.parsers.TextReader.read_low_memory\u001b[0;34m()\u001b[0m\n",
      "File \u001b[0;32mparsers.pyx:904\u001b[0m, in \u001b[0;36mpandas._libs.parsers.TextReader._read_rows\u001b[0;34m()\u001b[0m\n",
      "File \u001b[0;32mparsers.pyx:879\u001b[0m, in \u001b[0;36mpandas._libs.parsers.TextReader._tokenize_rows\u001b[0;34m()\u001b[0m\n",
      "File \u001b[0;32mparsers.pyx:890\u001b[0m, in \u001b[0;36mpandas._libs.parsers.TextReader._check_tokenize_status\u001b[0;34m()\u001b[0m\n",
      "File \u001b[0;32mparsers.pyx:2058\u001b[0m, in \u001b[0;36mpandas._libs.parsers.raise_parser_error\u001b[0;34m()\u001b[0m\n",
      "\u001b[0;31mParserError\u001b[0m: Error tokenizing data. C error: Calling read(nbytes) on source failed. Try engine='python'."
     ]
    }
   ],
   "source": [
    "df = pd.read_csv('/Users/krits/Documents/GitHub/ICCS361Project1/DATA/2019-Oct.csv')\n",
    "df"
   ]
  },
  {
   "cell_type": "code",
   "execution_count": 8,
   "metadata": {},
   "outputs": [
    {
     "data": {
      "text/html": [
       "<div>\n",
       "<style scoped>\n",
       "    .dataframe tbody tr th:only-of-type {\n",
       "        vertical-align: middle;\n",
       "    }\n",
       "\n",
       "    .dataframe tbody tr th {\n",
       "        vertical-align: top;\n",
       "    }\n",
       "\n",
       "    .dataframe thead th {\n",
       "        text-align: right;\n",
       "    }\n",
       "</style>\n",
       "<table border=\"1\" class=\"dataframe\">\n",
       "  <thead>\n",
       "    <tr style=\"text-align: right;\">\n",
       "      <th></th>\n",
       "      <th>event_time</th>\n",
       "      <th>event_type</th>\n",
       "      <th>product_id</th>\n",
       "      <th>category_id</th>\n",
       "      <th>category_code</th>\n",
       "      <th>brand</th>\n",
       "      <th>price</th>\n",
       "      <th>user_id</th>\n",
       "      <th>user_session</th>\n",
       "    </tr>\n",
       "  </thead>\n",
       "  <tbody>\n",
       "    <tr>\n",
       "      <th>0</th>\n",
       "      <td>2019-10-01 00:00:00 UTC</td>\n",
       "      <td>view</td>\n",
       "      <td>44600062</td>\n",
       "      <td>2103807459595387724</td>\n",
       "      <td>NaN</td>\n",
       "      <td>shiseido</td>\n",
       "      <td>35.79</td>\n",
       "      <td>541312140</td>\n",
       "      <td>72d76fde-8bb3-4e00-8c23-a032dfed738c</td>\n",
       "    </tr>\n",
       "    <tr>\n",
       "      <th>1</th>\n",
       "      <td>2019-10-01 00:00:00 UTC</td>\n",
       "      <td>view</td>\n",
       "      <td>3900821</td>\n",
       "      <td>2053013552326770905</td>\n",
       "      <td>appliances.environment.water_heater</td>\n",
       "      <td>aqua</td>\n",
       "      <td>33.20</td>\n",
       "      <td>554748717</td>\n",
       "      <td>9333dfbd-b87a-4708-9857-6336556b0fcc</td>\n",
       "    </tr>\n",
       "    <tr>\n",
       "      <th>2</th>\n",
       "      <td>2019-10-01 00:00:01 UTC</td>\n",
       "      <td>view</td>\n",
       "      <td>17200506</td>\n",
       "      <td>2053013559792632471</td>\n",
       "      <td>furniture.living_room.sofa</td>\n",
       "      <td>NaN</td>\n",
       "      <td>543.10</td>\n",
       "      <td>519107250</td>\n",
       "      <td>566511c2-e2e3-422b-b695-cf8e6e792ca8</td>\n",
       "    </tr>\n",
       "    <tr>\n",
       "      <th>3</th>\n",
       "      <td>2019-10-01 00:00:01 UTC</td>\n",
       "      <td>view</td>\n",
       "      <td>1307067</td>\n",
       "      <td>2053013558920217191</td>\n",
       "      <td>computers.notebook</td>\n",
       "      <td>lenovo</td>\n",
       "      <td>251.74</td>\n",
       "      <td>550050854</td>\n",
       "      <td>7c90fc70-0e80-4590-96f3-13c02c18c713</td>\n",
       "    </tr>\n",
       "    <tr>\n",
       "      <th>4</th>\n",
       "      <td>2019-10-01 00:00:04 UTC</td>\n",
       "      <td>view</td>\n",
       "      <td>1004237</td>\n",
       "      <td>2053013555631882655</td>\n",
       "      <td>electronics.smartphone</td>\n",
       "      <td>apple</td>\n",
       "      <td>1081.98</td>\n",
       "      <td>535871217</td>\n",
       "      <td>c6bd7419-2748-4c56-95b4-8cec9ff8b80d</td>\n",
       "    </tr>\n",
       "    <tr>\n",
       "      <th>5</th>\n",
       "      <td>2019-10-01 00:00:05 UTC</td>\n",
       "      <td>view</td>\n",
       "      <td>1480613</td>\n",
       "      <td>2053013561092866779</td>\n",
       "      <td>computers.desktop</td>\n",
       "      <td>pulser</td>\n",
       "      <td>908.62</td>\n",
       "      <td>512742880</td>\n",
       "      <td>0d0d91c2-c9c2-4e81-90a5-86594dec0db9</td>\n",
       "    </tr>\n",
       "    <tr>\n",
       "      <th>6</th>\n",
       "      <td>2019-10-01 00:00:08 UTC</td>\n",
       "      <td>view</td>\n",
       "      <td>17300353</td>\n",
       "      <td>2053013553853497655</td>\n",
       "      <td>NaN</td>\n",
       "      <td>creed</td>\n",
       "      <td>380.96</td>\n",
       "      <td>555447699</td>\n",
       "      <td>4fe811e9-91de-46da-90c3-bbd87ed3a65d</td>\n",
       "    </tr>\n",
       "    <tr>\n",
       "      <th>7</th>\n",
       "      <td>2019-10-01 00:00:08 UTC</td>\n",
       "      <td>view</td>\n",
       "      <td>31500053</td>\n",
       "      <td>2053013558031024687</td>\n",
       "      <td>NaN</td>\n",
       "      <td>luminarc</td>\n",
       "      <td>41.16</td>\n",
       "      <td>550978835</td>\n",
       "      <td>6280d577-25c8-4147-99a7-abc6048498d6</td>\n",
       "    </tr>\n",
       "    <tr>\n",
       "      <th>8</th>\n",
       "      <td>2019-10-01 00:00:10 UTC</td>\n",
       "      <td>view</td>\n",
       "      <td>28719074</td>\n",
       "      <td>2053013565480109009</td>\n",
       "      <td>apparel.shoes.keds</td>\n",
       "      <td>baden</td>\n",
       "      <td>102.71</td>\n",
       "      <td>520571932</td>\n",
       "      <td>ac1cd4e5-a3ce-4224-a2d7-ff660a105880</td>\n",
       "    </tr>\n",
       "    <tr>\n",
       "      <th>9</th>\n",
       "      <td>2019-10-01 00:00:11 UTC</td>\n",
       "      <td>view</td>\n",
       "      <td>1004545</td>\n",
       "      <td>2053013555631882655</td>\n",
       "      <td>electronics.smartphone</td>\n",
       "      <td>huawei</td>\n",
       "      <td>566.01</td>\n",
       "      <td>537918940</td>\n",
       "      <td>406c46ed-90a4-4787-a43b-59a410c1a5fb</td>\n",
       "    </tr>\n",
       "  </tbody>\n",
       "</table>\n",
       "</div>"
      ],
      "text/plain": [
       "                event_time event_type  product_id          category_id  \\\n",
       "0  2019-10-01 00:00:00 UTC       view    44600062  2103807459595387724   \n",
       "1  2019-10-01 00:00:00 UTC       view     3900821  2053013552326770905   \n",
       "2  2019-10-01 00:00:01 UTC       view    17200506  2053013559792632471   \n",
       "3  2019-10-01 00:00:01 UTC       view     1307067  2053013558920217191   \n",
       "4  2019-10-01 00:00:04 UTC       view     1004237  2053013555631882655   \n",
       "5  2019-10-01 00:00:05 UTC       view     1480613  2053013561092866779   \n",
       "6  2019-10-01 00:00:08 UTC       view    17300353  2053013553853497655   \n",
       "7  2019-10-01 00:00:08 UTC       view    31500053  2053013558031024687   \n",
       "8  2019-10-01 00:00:10 UTC       view    28719074  2053013565480109009   \n",
       "9  2019-10-01 00:00:11 UTC       view     1004545  2053013555631882655   \n",
       "\n",
       "                         category_code     brand    price    user_id  \\\n",
       "0                                  NaN  shiseido    35.79  541312140   \n",
       "1  appliances.environment.water_heater      aqua    33.20  554748717   \n",
       "2           furniture.living_room.sofa       NaN   543.10  519107250   \n",
       "3                   computers.notebook    lenovo   251.74  550050854   \n",
       "4               electronics.smartphone     apple  1081.98  535871217   \n",
       "5                    computers.desktop    pulser   908.62  512742880   \n",
       "6                                  NaN     creed   380.96  555447699   \n",
       "7                                  NaN  luminarc    41.16  550978835   \n",
       "8                   apparel.shoes.keds     baden   102.71  520571932   \n",
       "9               electronics.smartphone    huawei   566.01  537918940   \n",
       "\n",
       "                           user_session  \n",
       "0  72d76fde-8bb3-4e00-8c23-a032dfed738c  \n",
       "1  9333dfbd-b87a-4708-9857-6336556b0fcc  \n",
       "2  566511c2-e2e3-422b-b695-cf8e6e792ca8  \n",
       "3  7c90fc70-0e80-4590-96f3-13c02c18c713  \n",
       "4  c6bd7419-2748-4c56-95b4-8cec9ff8b80d  \n",
       "5  0d0d91c2-c9c2-4e81-90a5-86594dec0db9  \n",
       "6  4fe811e9-91de-46da-90c3-bbd87ed3a65d  \n",
       "7  6280d577-25c8-4147-99a7-abc6048498d6  \n",
       "8  ac1cd4e5-a3ce-4224-a2d7-ff660a105880  \n",
       "9  406c46ed-90a4-4787-a43b-59a410c1a5fb  "
      ]
     },
     "execution_count": 8,
     "metadata": {},
     "output_type": "execute_result"
    }
   ],
   "source": [
    "df.head(10)\n"
   ]
  },
  {
   "cell_type": "code",
   "execution_count": 9,
   "metadata": {},
   "outputs": [
    {
     "name": "stdout",
     "output_type": "stream",
     "text": [
      "<class 'pandas.core.frame.DataFrame'>\n",
      "RangeIndex: 42448764 entries, 0 to 42448763\n",
      "Data columns (total 9 columns):\n",
      " #   Column         Dtype  \n",
      "---  ------         -----  \n",
      " 0   event_time     object \n",
      " 1   event_type     object \n",
      " 2   product_id     int64  \n",
      " 3   category_id    int64  \n",
      " 4   category_code  object \n",
      " 5   brand          object \n",
      " 6   price          float64\n",
      " 7   user_id        int64  \n",
      " 8   user_session   object \n",
      "dtypes: float64(1), int64(3), object(5)\n",
      "memory usage: 2.8+ GB\n"
     ]
    }
   ],
   "source": [
    "df.info()"
   ]
  },
  {
   "cell_type": "code",
   "execution_count": 10,
   "metadata": {
    "vscode": {
     "languageId": "ruby"
    }
   },
   "outputs": [
    {
     "data": {
      "text/html": [
       "<div>\n",
       "<style scoped>\n",
       "    .dataframe tbody tr th:only-of-type {\n",
       "        vertical-align: middle;\n",
       "    }\n",
       "\n",
       "    .dataframe tbody tr th {\n",
       "        vertical-align: top;\n",
       "    }\n",
       "\n",
       "    .dataframe thead th {\n",
       "        text-align: right;\n",
       "    }\n",
       "</style>\n",
       "<table border=\"1\" class=\"dataframe\">\n",
       "  <thead>\n",
       "    <tr style=\"text-align: right;\">\n",
       "      <th></th>\n",
       "      <th>product_id</th>\n",
       "      <th>category_id</th>\n",
       "      <th>price</th>\n",
       "      <th>user_id</th>\n",
       "    </tr>\n",
       "  </thead>\n",
       "  <tbody>\n",
       "    <tr>\n",
       "      <th>count</th>\n",
       "      <td>4.244876e+07</td>\n",
       "      <td>4.244876e+07</td>\n",
       "      <td>4.244876e+07</td>\n",
       "      <td>4.244876e+07</td>\n",
       "    </tr>\n",
       "    <tr>\n",
       "      <th>mean</th>\n",
       "      <td>1.054993e+07</td>\n",
       "      <td>2.057404e+18</td>\n",
       "      <td>2.903237e+02</td>\n",
       "      <td>5.335371e+08</td>\n",
       "    </tr>\n",
       "    <tr>\n",
       "      <th>std</th>\n",
       "      <td>1.188191e+07</td>\n",
       "      <td>1.843926e+16</td>\n",
       "      <td>3.582692e+02</td>\n",
       "      <td>1.852374e+07</td>\n",
       "    </tr>\n",
       "    <tr>\n",
       "      <th>min</th>\n",
       "      <td>1.000978e+06</td>\n",
       "      <td>2.053014e+18</td>\n",
       "      <td>0.000000e+00</td>\n",
       "      <td>3.386938e+07</td>\n",
       "    </tr>\n",
       "    <tr>\n",
       "      <th>25%</th>\n",
       "      <td>1.005157e+06</td>\n",
       "      <td>2.053014e+18</td>\n",
       "      <td>6.598000e+01</td>\n",
       "      <td>5.159043e+08</td>\n",
       "    </tr>\n",
       "    <tr>\n",
       "      <th>50%</th>\n",
       "      <td>5.000470e+06</td>\n",
       "      <td>2.053014e+18</td>\n",
       "      <td>1.629300e+02</td>\n",
       "      <td>5.296965e+08</td>\n",
       "    </tr>\n",
       "    <tr>\n",
       "      <th>75%</th>\n",
       "      <td>1.600030e+07</td>\n",
       "      <td>2.053014e+18</td>\n",
       "      <td>3.585700e+02</td>\n",
       "      <td>5.515788e+08</td>\n",
       "    </tr>\n",
       "    <tr>\n",
       "      <th>max</th>\n",
       "      <td>6.050001e+07</td>\n",
       "      <td>2.175420e+18</td>\n",
       "      <td>2.574070e+03</td>\n",
       "      <td>5.662809e+08</td>\n",
       "    </tr>\n",
       "  </tbody>\n",
       "</table>\n",
       "</div>"
      ],
      "text/plain": [
       "         product_id   category_id         price       user_id\n",
       "count  4.244876e+07  4.244876e+07  4.244876e+07  4.244876e+07\n",
       "mean   1.054993e+07  2.057404e+18  2.903237e+02  5.335371e+08\n",
       "std    1.188191e+07  1.843926e+16  3.582692e+02  1.852374e+07\n",
       "min    1.000978e+06  2.053014e+18  0.000000e+00  3.386938e+07\n",
       "25%    1.005157e+06  2.053014e+18  6.598000e+01  5.159043e+08\n",
       "50%    5.000470e+06  2.053014e+18  1.629300e+02  5.296965e+08\n",
       "75%    1.600030e+07  2.053014e+18  3.585700e+02  5.515788e+08\n",
       "max    6.050001e+07  2.175420e+18  2.574070e+03  5.662809e+08"
      ]
     },
     "execution_count": 10,
     "metadata": {},
     "output_type": "execute_result"
    }
   ],
   "source": [
    "df.describe()"
   ]
  },
  {
   "cell_type": "code",
   "execution_count": 11,
   "metadata": {
    "vscode": {
     "languageId": "ruby"
    }
   },
   "outputs": [
    {
     "data": {
      "text/plain": [
       "event_time       42448764\n",
       "event_type       42448764\n",
       "product_id       42448764\n",
       "category_id      42448764\n",
       "category_code    28933155\n",
       "brand            36331684\n",
       "price            42448764\n",
       "user_id          42448764\n",
       "user_session     42448762\n",
       "dtype: int64"
      ]
     },
     "execution_count": 11,
     "metadata": {},
     "output_type": "execute_result"
    }
   ],
   "source": [
    "df.count()"
   ]
  },
  {
   "cell_type": "code",
   "execution_count": 12,
   "metadata": {
    "vscode": {
     "languageId": "ruby"
    }
   },
   "outputs": [
    {
     "data": {
      "text/plain": [
       "event_time              0\n",
       "event_type              0\n",
       "product_id              0\n",
       "category_id             0\n",
       "category_code    13515609\n",
       "brand             6117080\n",
       "price                   0\n",
       "user_id                 0\n",
       "user_session            2\n",
       "dtype: int64"
      ]
     },
     "execution_count": 12,
     "metadata": {},
     "output_type": "execute_result"
    }
   ],
   "source": [
    "df.isnull().sum()"
   ]
  },
  {
   "cell_type": "code",
   "execution_count": 13,
   "metadata": {
    "vscode": {
     "languageId": "ruby"
    }
   },
   "outputs": [
    {
     "name": "stdout",
     "output_type": "stream",
     "text": [
      "3\n",
      "['view' 'purchase' 'cart']\n"
     ]
    }
   ],
   "source": [
    "print(df['event_type'].nunique())\n",
    "print(df['event_type'].unique())"
   ]
  },
  {
   "cell_type": "code",
   "execution_count": 14,
   "metadata": {},
   "outputs": [
    {
     "name": "stdout",
     "output_type": "stream",
     "text": [
      "166794\n",
      "624\n",
      "126\n",
      "3444\n",
      "3022290\n"
     ]
    }
   ],
   "source": [
    "print(df['product_id'].nunique())\n",
    "print(df['category_id'].nunique())\n",
    "print(df['category_code'].nunique())\n",
    "print(df['brand'].nunique())\n",
    "print(df['user_id'].nunique())"
   ]
  },
  {
   "cell_type": "code",
   "execution_count": 15,
   "metadata": {},
   "outputs": [
    {
     "name": "stdout",
     "output_type": "stream",
     "text": [
      "event_type\n",
      "view        96.067341\n",
      "cart         2.182669\n",
      "purchase     1.749990\n",
      "Name: proportion, dtype: float64\n"
     ]
    }
   ],
   "source": [
    "event_type_percentages = df['event_type'].value_counts(normalize=True) * 100\n",
    "print(event_type_percentages)"
   ]
  },
  {
   "cell_type": "code",
   "execution_count": 16,
   "metadata": {},
   "outputs": [
    {
     "name": "stdout",
     "output_type": "stream",
     "text": [
      "Minimum spending: $0.00\n",
      "Maximum spending: $2574.07\n",
      "Average spending: $290.32\n"
     ]
    }
   ],
   "source": [
    "min_spending = df['price'].min()\n",
    "max_spending = df['price'].max()\n",
    "avg_spending = df['price'].mean()\n",
    "\n",
    "print(f\"Minimum spending: ${min_spending:.2f}\")\n",
    "print(f\"Maximum spending: ${max_spending:.2f}\")\n",
    "print(f\"Average spending: ${avg_spending:.2f}\")"
   ]
  },
  {
   "cell_type": "markdown",
   "metadata": {},
   "source": [
    "Summary of DATA:\n",
    "\n",
    "| Property    | Description |   Type   |   Note  |\n",
    "| --------    | -------     | -------- | ------- |\n",
    "| event_time  | Time when event happened at (in UTC).                                                                                                                          | datetime64  | total of 42448764 time stamp   |\n",
    "| event_type  | Only one kind of event: purchase.                                                                                                                              | object |  3 event type in total view = 96%, cart = 2.2% and purchase = 1.7%   |\n",
    "| product_id  | ID of a product                                                                                                                                                | int64    | 166794 unique product   |\n",
    "| category_id | Product's category ID                                                                                                                                          | int64    | 624 unique category ID   |\n",
    "|category_code| Product's category taxonomy (code name) if it was possible to make it. Usually present for meaningful categories and skipped for different kinds of accessories| object    |126 unique category code   |\n",
    "| brand       | Downcased string of brand name. Can be missed.                                                                                                                 | object    | 3444 unique brand   |\n",
    "| price     | Float price of a product. Present.                                                                                                                               | float64    |  min spend = $0.00, spend = $2547 and average spending = $290   |\n",
    "| user_id| Permanent user ID.                                                                                                                                                  | int64    | 3022290 user active this month   |\n",
    "| user_session | Product's category ID                                                                                                                                         | object    |    |\n"
   ]
  },
  {
   "cell_type": "markdown",
   "metadata": {},
   "source": []
  },
  {
   "cell_type": "code",
   "execution_count": 17,
   "metadata": {},
   "outputs": [
    {
     "name": "stdout",
     "output_type": "stream",
     "text": [
      "Split successfully\n"
     ]
    }
   ],
   "source": [
    "df[['main_category', 'sub_category']] = df['category_code'].str.split('.', n=1, expand=True)\n",
    "print('Split successfully')"
   ]
  },
  {
   "cell_type": "code",
   "execution_count": 18,
   "metadata": {},
   "outputs": [
    {
     "data": {
      "text/html": [
       "<div>\n",
       "<style scoped>\n",
       "    .dataframe tbody tr th:only-of-type {\n",
       "        vertical-align: middle;\n",
       "    }\n",
       "\n",
       "    .dataframe tbody tr th {\n",
       "        vertical-align: top;\n",
       "    }\n",
       "\n",
       "    .dataframe thead th {\n",
       "        text-align: right;\n",
       "    }\n",
       "</style>\n",
       "<table border=\"1\" class=\"dataframe\">\n",
       "  <thead>\n",
       "    <tr style=\"text-align: right;\">\n",
       "      <th></th>\n",
       "      <th>event_time</th>\n",
       "      <th>event_type</th>\n",
       "      <th>product_id</th>\n",
       "      <th>category_id</th>\n",
       "      <th>category_code</th>\n",
       "      <th>brand</th>\n",
       "      <th>price</th>\n",
       "      <th>user_id</th>\n",
       "      <th>user_session</th>\n",
       "      <th>main_category</th>\n",
       "      <th>sub_category</th>\n",
       "    </tr>\n",
       "  </thead>\n",
       "  <tbody>\n",
       "    <tr>\n",
       "      <th>0</th>\n",
       "      <td>2019-10-01 00:00:00 UTC</td>\n",
       "      <td>view</td>\n",
       "      <td>44600062</td>\n",
       "      <td>2103807459595387724</td>\n",
       "      <td>NaN</td>\n",
       "      <td>shiseido</td>\n",
       "      <td>35.79</td>\n",
       "      <td>541312140</td>\n",
       "      <td>72d76fde-8bb3-4e00-8c23-a032dfed738c</td>\n",
       "      <td>NaN</td>\n",
       "      <td>NaN</td>\n",
       "    </tr>\n",
       "    <tr>\n",
       "      <th>1</th>\n",
       "      <td>2019-10-01 00:00:00 UTC</td>\n",
       "      <td>view</td>\n",
       "      <td>3900821</td>\n",
       "      <td>2053013552326770905</td>\n",
       "      <td>appliances.environment.water_heater</td>\n",
       "      <td>aqua</td>\n",
       "      <td>33.20</td>\n",
       "      <td>554748717</td>\n",
       "      <td>9333dfbd-b87a-4708-9857-6336556b0fcc</td>\n",
       "      <td>appliances</td>\n",
       "      <td>environment.water_heater</td>\n",
       "    </tr>\n",
       "    <tr>\n",
       "      <th>2</th>\n",
       "      <td>2019-10-01 00:00:01 UTC</td>\n",
       "      <td>view</td>\n",
       "      <td>17200506</td>\n",
       "      <td>2053013559792632471</td>\n",
       "      <td>furniture.living_room.sofa</td>\n",
       "      <td>NaN</td>\n",
       "      <td>543.10</td>\n",
       "      <td>519107250</td>\n",
       "      <td>566511c2-e2e3-422b-b695-cf8e6e792ca8</td>\n",
       "      <td>furniture</td>\n",
       "      <td>living_room.sofa</td>\n",
       "    </tr>\n",
       "    <tr>\n",
       "      <th>3</th>\n",
       "      <td>2019-10-01 00:00:01 UTC</td>\n",
       "      <td>view</td>\n",
       "      <td>1307067</td>\n",
       "      <td>2053013558920217191</td>\n",
       "      <td>computers.notebook</td>\n",
       "      <td>lenovo</td>\n",
       "      <td>251.74</td>\n",
       "      <td>550050854</td>\n",
       "      <td>7c90fc70-0e80-4590-96f3-13c02c18c713</td>\n",
       "      <td>computers</td>\n",
       "      <td>notebook</td>\n",
       "    </tr>\n",
       "    <tr>\n",
       "      <th>4</th>\n",
       "      <td>2019-10-01 00:00:04 UTC</td>\n",
       "      <td>view</td>\n",
       "      <td>1004237</td>\n",
       "      <td>2053013555631882655</td>\n",
       "      <td>electronics.smartphone</td>\n",
       "      <td>apple</td>\n",
       "      <td>1081.98</td>\n",
       "      <td>535871217</td>\n",
       "      <td>c6bd7419-2748-4c56-95b4-8cec9ff8b80d</td>\n",
       "      <td>electronics</td>\n",
       "      <td>smartphone</td>\n",
       "    </tr>\n",
       "    <tr>\n",
       "      <th>...</th>\n",
       "      <td>...</td>\n",
       "      <td>...</td>\n",
       "      <td>...</td>\n",
       "      <td>...</td>\n",
       "      <td>...</td>\n",
       "      <td>...</td>\n",
       "      <td>...</td>\n",
       "      <td>...</td>\n",
       "      <td>...</td>\n",
       "      <td>...</td>\n",
       "      <td>...</td>\n",
       "    </tr>\n",
       "    <tr>\n",
       "      <th>42448759</th>\n",
       "      <td>2019-10-31 23:59:58 UTC</td>\n",
       "      <td>view</td>\n",
       "      <td>2300275</td>\n",
       "      <td>2053013560530830019</td>\n",
       "      <td>electronics.camera.video</td>\n",
       "      <td>gopro</td>\n",
       "      <td>527.40</td>\n",
       "      <td>537931532</td>\n",
       "      <td>22c57267-da98-4f28-9a9c-18bb5b385193</td>\n",
       "      <td>electronics</td>\n",
       "      <td>camera.video</td>\n",
       "    </tr>\n",
       "    <tr>\n",
       "      <th>42448760</th>\n",
       "      <td>2019-10-31 23:59:58 UTC</td>\n",
       "      <td>view</td>\n",
       "      <td>10800172</td>\n",
       "      <td>2053013554994348409</td>\n",
       "      <td>NaN</td>\n",
       "      <td>redmond</td>\n",
       "      <td>61.75</td>\n",
       "      <td>527322328</td>\n",
       "      <td>5054190a-46cb-4211-a8f1-16fc1a060ed8</td>\n",
       "      <td>NaN</td>\n",
       "      <td>NaN</td>\n",
       "    </tr>\n",
       "    <tr>\n",
       "      <th>42448761</th>\n",
       "      <td>2019-10-31 23:59:58 UTC</td>\n",
       "      <td>view</td>\n",
       "      <td>5701038</td>\n",
       "      <td>2053013553970938175</td>\n",
       "      <td>auto.accessories.player</td>\n",
       "      <td>kenwood</td>\n",
       "      <td>128.70</td>\n",
       "      <td>566280422</td>\n",
       "      <td>05b6c62b-992f-4e8e-91f7-961bcb4719cd</td>\n",
       "      <td>auto</td>\n",
       "      <td>accessories.player</td>\n",
       "    </tr>\n",
       "    <tr>\n",
       "      <th>42448762</th>\n",
       "      <td>2019-10-31 23:59:59 UTC</td>\n",
       "      <td>view</td>\n",
       "      <td>21407424</td>\n",
       "      <td>2053013561579406073</td>\n",
       "      <td>electronics.clocks</td>\n",
       "      <td>tissot</td>\n",
       "      <td>689.85</td>\n",
       "      <td>513118352</td>\n",
       "      <td>4c14bf2a-2820-4504-929d-046356a5a204</td>\n",
       "      <td>electronics</td>\n",
       "      <td>clocks</td>\n",
       "    </tr>\n",
       "    <tr>\n",
       "      <th>42448763</th>\n",
       "      <td>2019-10-31 23:59:59 UTC</td>\n",
       "      <td>view</td>\n",
       "      <td>13300120</td>\n",
       "      <td>2053013557166998015</td>\n",
       "      <td>NaN</td>\n",
       "      <td>swisshome</td>\n",
       "      <td>155.73</td>\n",
       "      <td>525266378</td>\n",
       "      <td>6e57d2d7-6022-46e6-81d6-fa77f14cefd8</td>\n",
       "      <td>NaN</td>\n",
       "      <td>NaN</td>\n",
       "    </tr>\n",
       "  </tbody>\n",
       "</table>\n",
       "<p>42448764 rows × 11 columns</p>\n",
       "</div>"
      ],
      "text/plain": [
       "                       event_time event_type  product_id          category_id  \\\n",
       "0         2019-10-01 00:00:00 UTC       view    44600062  2103807459595387724   \n",
       "1         2019-10-01 00:00:00 UTC       view     3900821  2053013552326770905   \n",
       "2         2019-10-01 00:00:01 UTC       view    17200506  2053013559792632471   \n",
       "3         2019-10-01 00:00:01 UTC       view     1307067  2053013558920217191   \n",
       "4         2019-10-01 00:00:04 UTC       view     1004237  2053013555631882655   \n",
       "...                           ...        ...         ...                  ...   \n",
       "42448759  2019-10-31 23:59:58 UTC       view     2300275  2053013560530830019   \n",
       "42448760  2019-10-31 23:59:58 UTC       view    10800172  2053013554994348409   \n",
       "42448761  2019-10-31 23:59:58 UTC       view     5701038  2053013553970938175   \n",
       "42448762  2019-10-31 23:59:59 UTC       view    21407424  2053013561579406073   \n",
       "42448763  2019-10-31 23:59:59 UTC       view    13300120  2053013557166998015   \n",
       "\n",
       "                                category_code      brand    price    user_id  \\\n",
       "0                                         NaN   shiseido    35.79  541312140   \n",
       "1         appliances.environment.water_heater       aqua    33.20  554748717   \n",
       "2                  furniture.living_room.sofa        NaN   543.10  519107250   \n",
       "3                          computers.notebook     lenovo   251.74  550050854   \n",
       "4                      electronics.smartphone      apple  1081.98  535871217   \n",
       "...                                       ...        ...      ...        ...   \n",
       "42448759             electronics.camera.video      gopro   527.40  537931532   \n",
       "42448760                                  NaN    redmond    61.75  527322328   \n",
       "42448761              auto.accessories.player    kenwood   128.70  566280422   \n",
       "42448762                   electronics.clocks     tissot   689.85  513118352   \n",
       "42448763                                  NaN  swisshome   155.73  525266378   \n",
       "\n",
       "                                  user_session main_category  \\\n",
       "0         72d76fde-8bb3-4e00-8c23-a032dfed738c           NaN   \n",
       "1         9333dfbd-b87a-4708-9857-6336556b0fcc    appliances   \n",
       "2         566511c2-e2e3-422b-b695-cf8e6e792ca8     furniture   \n",
       "3         7c90fc70-0e80-4590-96f3-13c02c18c713     computers   \n",
       "4         c6bd7419-2748-4c56-95b4-8cec9ff8b80d   electronics   \n",
       "...                                        ...           ...   \n",
       "42448759  22c57267-da98-4f28-9a9c-18bb5b385193   electronics   \n",
       "42448760  5054190a-46cb-4211-a8f1-16fc1a060ed8           NaN   \n",
       "42448761  05b6c62b-992f-4e8e-91f7-961bcb4719cd          auto   \n",
       "42448762  4c14bf2a-2820-4504-929d-046356a5a204   electronics   \n",
       "42448763  6e57d2d7-6022-46e6-81d6-fa77f14cefd8           NaN   \n",
       "\n",
       "                      sub_category  \n",
       "0                              NaN  \n",
       "1         environment.water_heater  \n",
       "2                 living_room.sofa  \n",
       "3                         notebook  \n",
       "4                       smartphone  \n",
       "...                            ...  \n",
       "42448759              camera.video  \n",
       "42448760                       NaN  \n",
       "42448761        accessories.player  \n",
       "42448762                    clocks  \n",
       "42448763                       NaN  \n",
       "\n",
       "[42448764 rows x 11 columns]"
      ]
     },
     "execution_count": 18,
     "metadata": {},
     "output_type": "execute_result"
    }
   ],
   "source": [
    "df"
   ]
  },
  {
   "cell_type": "code",
   "execution_count": 19,
   "metadata": {},
   "outputs": [
    {
     "data": {
      "text/html": [
       "<div>\n",
       "<style scoped>\n",
       "    .dataframe tbody tr th:only-of-type {\n",
       "        vertical-align: middle;\n",
       "    }\n",
       "\n",
       "    .dataframe tbody tr th {\n",
       "        vertical-align: top;\n",
       "    }\n",
       "\n",
       "    .dataframe thead th {\n",
       "        text-align: right;\n",
       "    }\n",
       "</style>\n",
       "<table border=\"1\" class=\"dataframe\">\n",
       "  <thead>\n",
       "    <tr style=\"text-align: right;\">\n",
       "      <th></th>\n",
       "      <th>event_time</th>\n",
       "      <th>event_type</th>\n",
       "      <th>product_id</th>\n",
       "      <th>category_id</th>\n",
       "      <th>main_category</th>\n",
       "      <th>sub_category</th>\n",
       "      <th>brand</th>\n",
       "      <th>price</th>\n",
       "      <th>user_id</th>\n",
       "      <th>user_session</th>\n",
       "    </tr>\n",
       "  </thead>\n",
       "  <tbody>\n",
       "    <tr>\n",
       "      <th>0</th>\n",
       "      <td>2019-10-01 00:00:00 UTC</td>\n",
       "      <td>view</td>\n",
       "      <td>44600062</td>\n",
       "      <td>2103807459595387724</td>\n",
       "      <td>NaN</td>\n",
       "      <td>NaN</td>\n",
       "      <td>shiseido</td>\n",
       "      <td>35.79</td>\n",
       "      <td>541312140</td>\n",
       "      <td>72d76fde-8bb3-4e00-8c23-a032dfed738c</td>\n",
       "    </tr>\n",
       "    <tr>\n",
       "      <th>1</th>\n",
       "      <td>2019-10-01 00:00:00 UTC</td>\n",
       "      <td>view</td>\n",
       "      <td>3900821</td>\n",
       "      <td>2053013552326770905</td>\n",
       "      <td>appliances</td>\n",
       "      <td>environment.water_heater</td>\n",
       "      <td>aqua</td>\n",
       "      <td>33.20</td>\n",
       "      <td>554748717</td>\n",
       "      <td>9333dfbd-b87a-4708-9857-6336556b0fcc</td>\n",
       "    </tr>\n",
       "    <tr>\n",
       "      <th>2</th>\n",
       "      <td>2019-10-01 00:00:01 UTC</td>\n",
       "      <td>view</td>\n",
       "      <td>17200506</td>\n",
       "      <td>2053013559792632471</td>\n",
       "      <td>furniture</td>\n",
       "      <td>living_room.sofa</td>\n",
       "      <td>NaN</td>\n",
       "      <td>543.10</td>\n",
       "      <td>519107250</td>\n",
       "      <td>566511c2-e2e3-422b-b695-cf8e6e792ca8</td>\n",
       "    </tr>\n",
       "    <tr>\n",
       "      <th>3</th>\n",
       "      <td>2019-10-01 00:00:01 UTC</td>\n",
       "      <td>view</td>\n",
       "      <td>1307067</td>\n",
       "      <td>2053013558920217191</td>\n",
       "      <td>computers</td>\n",
       "      <td>notebook</td>\n",
       "      <td>lenovo</td>\n",
       "      <td>251.74</td>\n",
       "      <td>550050854</td>\n",
       "      <td>7c90fc70-0e80-4590-96f3-13c02c18c713</td>\n",
       "    </tr>\n",
       "    <tr>\n",
       "      <th>4</th>\n",
       "      <td>2019-10-01 00:00:04 UTC</td>\n",
       "      <td>view</td>\n",
       "      <td>1004237</td>\n",
       "      <td>2053013555631882655</td>\n",
       "      <td>electronics</td>\n",
       "      <td>smartphone</td>\n",
       "      <td>apple</td>\n",
       "      <td>1081.98</td>\n",
       "      <td>535871217</td>\n",
       "      <td>c6bd7419-2748-4c56-95b4-8cec9ff8b80d</td>\n",
       "    </tr>\n",
       "    <tr>\n",
       "      <th>...</th>\n",
       "      <td>...</td>\n",
       "      <td>...</td>\n",
       "      <td>...</td>\n",
       "      <td>...</td>\n",
       "      <td>...</td>\n",
       "      <td>...</td>\n",
       "      <td>...</td>\n",
       "      <td>...</td>\n",
       "      <td>...</td>\n",
       "      <td>...</td>\n",
       "    </tr>\n",
       "    <tr>\n",
       "      <th>42448759</th>\n",
       "      <td>2019-10-31 23:59:58 UTC</td>\n",
       "      <td>view</td>\n",
       "      <td>2300275</td>\n",
       "      <td>2053013560530830019</td>\n",
       "      <td>electronics</td>\n",
       "      <td>camera.video</td>\n",
       "      <td>gopro</td>\n",
       "      <td>527.40</td>\n",
       "      <td>537931532</td>\n",
       "      <td>22c57267-da98-4f28-9a9c-18bb5b385193</td>\n",
       "    </tr>\n",
       "    <tr>\n",
       "      <th>42448760</th>\n",
       "      <td>2019-10-31 23:59:58 UTC</td>\n",
       "      <td>view</td>\n",
       "      <td>10800172</td>\n",
       "      <td>2053013554994348409</td>\n",
       "      <td>NaN</td>\n",
       "      <td>NaN</td>\n",
       "      <td>redmond</td>\n",
       "      <td>61.75</td>\n",
       "      <td>527322328</td>\n",
       "      <td>5054190a-46cb-4211-a8f1-16fc1a060ed8</td>\n",
       "    </tr>\n",
       "    <tr>\n",
       "      <th>42448761</th>\n",
       "      <td>2019-10-31 23:59:58 UTC</td>\n",
       "      <td>view</td>\n",
       "      <td>5701038</td>\n",
       "      <td>2053013553970938175</td>\n",
       "      <td>auto</td>\n",
       "      <td>accessories.player</td>\n",
       "      <td>kenwood</td>\n",
       "      <td>128.70</td>\n",
       "      <td>566280422</td>\n",
       "      <td>05b6c62b-992f-4e8e-91f7-961bcb4719cd</td>\n",
       "    </tr>\n",
       "    <tr>\n",
       "      <th>42448762</th>\n",
       "      <td>2019-10-31 23:59:59 UTC</td>\n",
       "      <td>view</td>\n",
       "      <td>21407424</td>\n",
       "      <td>2053013561579406073</td>\n",
       "      <td>electronics</td>\n",
       "      <td>clocks</td>\n",
       "      <td>tissot</td>\n",
       "      <td>689.85</td>\n",
       "      <td>513118352</td>\n",
       "      <td>4c14bf2a-2820-4504-929d-046356a5a204</td>\n",
       "    </tr>\n",
       "    <tr>\n",
       "      <th>42448763</th>\n",
       "      <td>2019-10-31 23:59:59 UTC</td>\n",
       "      <td>view</td>\n",
       "      <td>13300120</td>\n",
       "      <td>2053013557166998015</td>\n",
       "      <td>NaN</td>\n",
       "      <td>NaN</td>\n",
       "      <td>swisshome</td>\n",
       "      <td>155.73</td>\n",
       "      <td>525266378</td>\n",
       "      <td>6e57d2d7-6022-46e6-81d6-fa77f14cefd8</td>\n",
       "    </tr>\n",
       "  </tbody>\n",
       "</table>\n",
       "<p>42448764 rows × 10 columns</p>\n",
       "</div>"
      ],
      "text/plain": [
       "                       event_time event_type  product_id          category_id  \\\n",
       "0         2019-10-01 00:00:00 UTC       view    44600062  2103807459595387724   \n",
       "1         2019-10-01 00:00:00 UTC       view     3900821  2053013552326770905   \n",
       "2         2019-10-01 00:00:01 UTC       view    17200506  2053013559792632471   \n",
       "3         2019-10-01 00:00:01 UTC       view     1307067  2053013558920217191   \n",
       "4         2019-10-01 00:00:04 UTC       view     1004237  2053013555631882655   \n",
       "...                           ...        ...         ...                  ...   \n",
       "42448759  2019-10-31 23:59:58 UTC       view     2300275  2053013560530830019   \n",
       "42448760  2019-10-31 23:59:58 UTC       view    10800172  2053013554994348409   \n",
       "42448761  2019-10-31 23:59:58 UTC       view     5701038  2053013553970938175   \n",
       "42448762  2019-10-31 23:59:59 UTC       view    21407424  2053013561579406073   \n",
       "42448763  2019-10-31 23:59:59 UTC       view    13300120  2053013557166998015   \n",
       "\n",
       "         main_category              sub_category      brand    price  \\\n",
       "0                  NaN                       NaN   shiseido    35.79   \n",
       "1           appliances  environment.water_heater       aqua    33.20   \n",
       "2            furniture          living_room.sofa        NaN   543.10   \n",
       "3            computers                  notebook     lenovo   251.74   \n",
       "4          electronics                smartphone      apple  1081.98   \n",
       "...                ...                       ...        ...      ...   \n",
       "42448759   electronics              camera.video      gopro   527.40   \n",
       "42448760           NaN                       NaN    redmond    61.75   \n",
       "42448761          auto        accessories.player    kenwood   128.70   \n",
       "42448762   electronics                    clocks     tissot   689.85   \n",
       "42448763           NaN                       NaN  swisshome   155.73   \n",
       "\n",
       "            user_id                          user_session  \n",
       "0         541312140  72d76fde-8bb3-4e00-8c23-a032dfed738c  \n",
       "1         554748717  9333dfbd-b87a-4708-9857-6336556b0fcc  \n",
       "2         519107250  566511c2-e2e3-422b-b695-cf8e6e792ca8  \n",
       "3         550050854  7c90fc70-0e80-4590-96f3-13c02c18c713  \n",
       "4         535871217  c6bd7419-2748-4c56-95b4-8cec9ff8b80d  \n",
       "...             ...                                   ...  \n",
       "42448759  537931532  22c57267-da98-4f28-9a9c-18bb5b385193  \n",
       "42448760  527322328  5054190a-46cb-4211-a8f1-16fc1a060ed8  \n",
       "42448761  566280422  05b6c62b-992f-4e8e-91f7-961bcb4719cd  \n",
       "42448762  513118352  4c14bf2a-2820-4504-929d-046356a5a204  \n",
       "42448763  525266378  6e57d2d7-6022-46e6-81d6-fa77f14cefd8  \n",
       "\n",
       "[42448764 rows x 10 columns]"
      ]
     },
     "execution_count": 19,
     "metadata": {},
     "output_type": "execute_result"
    }
   ],
   "source": [
    "new_df = df[['event_time', 'event_type', 'product_id', 'category_id', 'main_category', 'sub_category', 'brand', 'price', 'user_id', 'user_session']]\n",
    "new_df"
   ]
  },
  {
   "cell_type": "code",
   "execution_count": 20,
   "metadata": {},
   "outputs": [
    {
     "data": {
      "text/plain": [
       "main_category\n",
       "electronics     14950\n",
       "apparel         13417\n",
       "appliances      12362\n",
       "computers        7930\n",
       "furniture        6972\n",
       "construction     5701\n",
       "kids             5123\n",
       "accessories      2516\n",
       "sport            2157\n",
       "auto             1201\n",
       "stationery        607\n",
       "country_yard      185\n",
       "medicine           29\n",
       "Name: product_id, dtype: int64"
      ]
     },
     "execution_count": 20,
     "metadata": {},
     "output_type": "execute_result"
    }
   ],
   "source": [
    "mainCat_values = new_df.groupby('main_category')['product_id'].nunique().sort_values(ascending=False)\n",
    "mainCat_names = mainCat_values.index\n",
    "mainCat_values"
   ]
  },
  {
   "cell_type": "code",
   "execution_count": 21,
   "metadata": {},
   "outputs": [
    {
     "name": "stdout",
     "output_type": "stream",
     "text": [
      "Number of main-categories:  13\n"
     ]
    },
    {
     "data": {
      "image/png": "[encoded data removed]",
      "text/plain": [
       "<Figure size 640x480 with 1 Axes>"
      ]
     },
     "metadata": {},
     "output_type": "display_data"
    }
   ],
   "source": [
    "print('Number of main-categories: ', len(mainCat_names))\n",
    "fig, ax = plt.subplots()\n",
    "ax.pie(mainCat_values, labels=mainCat_names, autopct='%1.1f%%', startangle=90, wedgeprops={'edgecolor': 'black'})\n",
    "ax.axis('equal')  # Equal aspect ratio ensures that pie is drawn as a circle.\n",
    "plt.title(\"Main category distribution\", x=0.50)\n",
    "plt.show()\n"
   ]
  },
  {
   "cell_type": "code",
   "execution_count": 22,
   "metadata": {},
   "outputs": [
    {
     "data": {
      "text/plain": [
       "sub_category\n",
       "clocks                     7788\n",
       "shoes                      6156\n",
       "shoes.keds                 2262\n",
       "toys                       2138\n",
       "audio.headphone            2134\n",
       "                           ... \n",
       "shoes.espadrilles             7\n",
       "furniture.hammok              6\n",
       "accessories.anti_freeze       4\n",
       "furniture.bench               4\n",
       "tools.soldering               2\n",
       "Name: product_id, Length: 126, dtype: int64"
      ]
     },
     "execution_count": 22,
     "metadata": {},
     "output_type": "execute_result"
    }
   ],
   "source": [
    "subCat_values = new_df.groupby('sub_category')['product_id'].nunique().sort_values(ascending=False)\n",
    "subCat_names = subCat_values.index\n",
    "subCat_values"
   ]
  },
  {
   "cell_type": "code",
   "execution_count": 23,
   "metadata": {
    "vscode": {
     "languageId": "ruby"
    }
   },
   "outputs": [
    {
     "data": {
      "image/png": "[encoded data removed]",
      "text/plain": [
       "<Figure size 1200x600 with 1 Axes>"
      ]
     },
     "metadata": {},
     "output_type": "display_data"
    }
   ],
   "source": [
    "df['event_time'] = pd.to_datetime(df['event_time'])\n",
    "df['date'] = df['event_time'].dt.date\n",
    "purchase_df = df[df['event_type'] == 'purchase']\n",
    "daily_sales = purchase_df.groupby('date')['price'].sum().reset_index()\n",
    "\n",
    "plt.figure(figsize=(12,6))\n",
    "bars = plt.bar(daily_sales['date'], daily_sales['price'])\n",
    "plt.xlabel('Date')\n",
    "plt.ylabel('Total Sales')\n",
    "plt.title('Total Sales by Date')\n",
    "plt.xticks(rotation=90)\n",
    "\n",
    "\n",
    "plt.show()"
   ]
  },
  {
   "cell_type": "code",
   "execution_count": 24,
   "metadata": {},
   "outputs": [
    {
     "name": "stdout",
     "output_type": "stream",
     "text": [
      "Most sales: 2019-10-16: 9747239.24\n",
      "Least sales: 2019-10-02: 6213628.53\n"
     ]
    }
   ],
   "source": [
    "most_sales_date = daily_sales.loc[daily_sales['price'].idxmax()]\n",
    "min_sales_date = daily_sales.loc[daily_sales['price'].idxmin()]\n",
    "\n",
    "print(f\"Most sales: {most_sales_date['date']}: {most_sales_date['price']}\")\n",
    "print(f\"Least sales: {min_sales_date['date']}: {min_sales_date['price']}\")"
   ]
  },
  {
   "cell_type": "code",
   "execution_count": 29,
   "metadata": {},
   "outputs": [
    {
     "name": "stderr",
     "output_type": "stream",
     "text": [
      "/var/folders/hv/0mg1x66j16ldl69jbflkvgvm0000gn/T/ipykernel_22170/2446899979.py:1: SettingWithCopyWarning: \n",
      "A value is trying to be set on a copy of a slice from a DataFrame.\n",
      "Try using .loc[row_indexer,col_indexer] = value instead\n",
      "\n",
      "See the caveats in the documentation: https://pandas.pydata.org/pandas-docs/stable/user_guide/indexing.html#returning-a-view-versus-a-copy\n",
      "  new_df['event_time'] = pd.to_datetime(new_df['event_time'])\n",
      "/var/folders/hv/0mg1x66j16ldl69jbflkvgvm0000gn/T/ipykernel_22170/2446899979.py:2: SettingWithCopyWarning: \n",
      "A value is trying to be set on a copy of a slice from a DataFrame.\n",
      "Try using .loc[row_indexer,col_indexer] = value instead\n",
      "\n",
      "See the caveats in the documentation: https://pandas.pydata.org/pandas-docs/stable/user_guide/indexing.html#returning-a-view-versus-a-copy\n",
      "  new_df['date'] = pd.to_datetime(new_df['event_time'].dt.date)\n"
     ]
    }
   ],
   "source": [
    "new_df['event_time'] = pd.to_datetime(new_df['event_time'])\n",
    "new_df['date'] = pd.to_datetime(new_df['event_time'].dt.date)\n",
    "new_df['time'] = new_df['event_time'].dt.time\n",
    "new_df['weekday'] = new_df['date'].dt.weekday"
   ]
  },
  {
   "cell_type": "code",
   "execution_count": 30,
   "metadata": {},
   "outputs": [
    {
     "data": {
      "text/html": [
       "<div>\n",
       "<style scoped>\n",
       "    .dataframe tbody tr th:only-of-type {\n",
       "        vertical-align: middle;\n",
       "    }\n",
       "\n",
       "    .dataframe tbody tr th {\n",
       "        vertical-align: top;\n",
       "    }\n",
       "\n",
       "    .dataframe thead th {\n",
       "        text-align: right;\n",
       "    }\n",
       "</style>\n",
       "<table border=\"1\" class=\"dataframe\">\n",
       "  <thead>\n",
       "    <tr style=\"text-align: right;\">\n",
       "      <th></th>\n",
       "      <th>date</th>\n",
       "      <th>weekday</th>\n",
       "      <th>time</th>\n",
       "      <th>event_type</th>\n",
       "      <th>product_id</th>\n",
       "      <th>category_id</th>\n",
       "      <th>main_category</th>\n",
       "      <th>sub_category</th>\n",
       "      <th>brand</th>\n",
       "      <th>price</th>\n",
       "      <th>user_id</th>\n",
       "      <th>user_session</th>\n",
       "    </tr>\n",
       "  </thead>\n",
       "  <tbody>\n",
       "    <tr>\n",
       "      <th>0</th>\n",
       "      <td>2019-10-01</td>\n",
       "      <td>1</td>\n",
       "      <td>00:00:00</td>\n",
       "      <td>view</td>\n",
       "      <td>44600062</td>\n",
       "      <td>2103807459595387724</td>\n",
       "      <td>NaN</td>\n",
       "      <td>NaN</td>\n",
       "      <td>shiseido</td>\n",
       "      <td>35.79</td>\n",
       "      <td>541312140</td>\n",
       "      <td>72d76fde-8bb3-4e00-8c23-a032dfed738c</td>\n",
       "    </tr>\n",
       "    <tr>\n",
       "      <th>1</th>\n",
       "      <td>2019-10-01</td>\n",
       "      <td>1</td>\n",
       "      <td>00:00:00</td>\n",
       "      <td>view</td>\n",
       "      <td>3900821</td>\n",
       "      <td>2053013552326770905</td>\n",
       "      <td>appliances</td>\n",
       "      <td>environment.water_heater</td>\n",
       "      <td>aqua</td>\n",
       "      <td>33.20</td>\n",
       "      <td>554748717</td>\n",
       "      <td>9333dfbd-b87a-4708-9857-6336556b0fcc</td>\n",
       "    </tr>\n",
       "    <tr>\n",
       "      <th>2</th>\n",
       "      <td>2019-10-01</td>\n",
       "      <td>1</td>\n",
       "      <td>00:00:01</td>\n",
       "      <td>view</td>\n",
       "      <td>17200506</td>\n",
       "      <td>2053013559792632471</td>\n",
       "      <td>furniture</td>\n",
       "      <td>living_room.sofa</td>\n",
       "      <td>NaN</td>\n",
       "      <td>543.10</td>\n",
       "      <td>519107250</td>\n",
       "      <td>566511c2-e2e3-422b-b695-cf8e6e792ca8</td>\n",
       "    </tr>\n",
       "    <tr>\n",
       "      <th>3</th>\n",
       "      <td>2019-10-01</td>\n",
       "      <td>1</td>\n",
       "      <td>00:00:01</td>\n",
       "      <td>view</td>\n",
       "      <td>1307067</td>\n",
       "      <td>2053013558920217191</td>\n",
       "      <td>computers</td>\n",
       "      <td>notebook</td>\n",
       "      <td>lenovo</td>\n",
       "      <td>251.74</td>\n",
       "      <td>550050854</td>\n",
       "      <td>7c90fc70-0e80-4590-96f3-13c02c18c713</td>\n",
       "    </tr>\n",
       "    <tr>\n",
       "      <th>4</th>\n",
       "      <td>2019-10-01</td>\n",
       "      <td>1</td>\n",
       "      <td>00:00:04</td>\n",
       "      <td>view</td>\n",
       "      <td>1004237</td>\n",
       "      <td>2053013555631882655</td>\n",
       "      <td>electronics</td>\n",
       "      <td>smartphone</td>\n",
       "      <td>apple</td>\n",
       "      <td>1081.98</td>\n",
       "      <td>535871217</td>\n",
       "      <td>c6bd7419-2748-4c56-95b4-8cec9ff8b80d</td>\n",
       "    </tr>\n",
       "  </tbody>\n",
       "</table>\n",
       "</div>"
      ],
      "text/plain": [
       "        date  weekday      time event_type  product_id          category_id  \\\n",
       "0 2019-10-01        1  00:00:00       view    44600062  2103807459595387724   \n",
       "1 2019-10-01        1  00:00:00       view     3900821  2053013552326770905   \n",
       "2 2019-10-01        1  00:00:01       view    17200506  2053013559792632471   \n",
       "3 2019-10-01        1  00:00:01       view     1307067  2053013558920217191   \n",
       "4 2019-10-01        1  00:00:04       view     1004237  2053013555631882655   \n",
       "\n",
       "  main_category              sub_category     brand    price    user_id  \\\n",
       "0           NaN                       NaN  shiseido    35.79  541312140   \n",
       "1    appliances  environment.water_heater      aqua    33.20  554748717   \n",
       "2     furniture          living_room.sofa       NaN   543.10  519107250   \n",
       "3     computers                  notebook    lenovo   251.74  550050854   \n",
       "4   electronics                smartphone     apple  1081.98  535871217   \n",
       "\n",
       "                           user_session  \n",
       "0  72d76fde-8bb3-4e00-8c23-a032dfed738c  \n",
       "1  9333dfbd-b87a-4708-9857-6336556b0fcc  \n",
       "2  566511c2-e2e3-422b-b695-cf8e6e792ca8  \n",
       "3  7c90fc70-0e80-4590-96f3-13c02c18c713  \n",
       "4  c6bd7419-2748-4c56-95b4-8cec9ff8b80d  "
      ]
     },
     "execution_count": 30,
     "metadata": {},
     "output_type": "execute_result"
    }
   ],
   "source": [
    "new_df.drop('event_time', axis='columns')\n",
    "new_df = new_df[['date', 'weekday', 'time', 'event_type', 'product_id', 'category_id', 'main_category', 'sub_category', 'brand', 'price', 'user_id', 'user_session']]\n",
    "new_df.head(5)"
   ]
  },
  {
   "cell_type": "code",
   "execution_count": 32,
   "metadata": {},
   "outputs": [
    {
     "name": "stdout",
     "output_type": "stream",
     "text": [
      "<class 'pandas.core.frame.DataFrame'>\n",
      "RangeIndex: 42448764 entries, 0 to 42448763\n",
      "Data columns (total 12 columns):\n",
      " #   Column         Dtype  \n",
      "---  ------         -----  \n",
      " 0   date           object \n",
      " 1   weekday        int32  \n",
      " 2   time           object \n",
      " 3   event_type     object \n",
      " 4   product_id     int64  \n",
      " 5   category_id    int64  \n",
      " 6   main_category  object \n",
      " 7   sub_category   object \n",
      " 8   brand          object \n",
      " 9   price          float64\n",
      " 10  user_id        int64  \n",
      " 11  user_session   object \n",
      "dtypes: float64(1), int32(1), int64(3), object(7)\n",
      "memory usage: 3.6+ GB\n"
     ]
    },
    {
     "name": "stderr",
     "output_type": "stream",
     "text": [
      "/var/folders/hv/0mg1x66j16ldl69jbflkvgvm0000gn/T/ipykernel_22170/1163371182.py:1: SettingWithCopyWarning: \n",
      "A value is trying to be set on a copy of a slice from a DataFrame.\n",
      "Try using .loc[row_indexer,col_indexer] = value instead\n",
      "\n",
      "See the caveats in the documentation: https://pandas.pydata.org/pandas-docs/stable/user_guide/indexing.html#returning-a-view-versus-a-copy\n",
      "  new_df['date'] = new_df['date'].astype(str)\n"
     ]
    }
   ],
   "source": [
    "new_df['date'] = new_df['date'].astype(str)\n",
    "new_df.info()"
   ]
  },
  {
   "cell_type": "code",
   "execution_count": 34,
   "metadata": {},
   "outputs": [],
   "source": [
    "new_df['hour'] = new_df['time'].apply(lambda t: t.hour)\n"
   ]
  },
  {
   "cell_type": "code",
   "execution_count": 36,
   "metadata": {},
   "outputs": [
    {
     "ename": "",
     "evalue": "",
     "output_type": "error",
     "traceback": [
      "\u001b[1;31mThe Kernel crashed while executing code in the current cell or a previous cell. \n",
      "\u001b[1;31mPlease review the code in the cell(s) to identify a possible cause of the failure. \n",
      "\u001b[1;31mClick <a href='https://aka.ms/vscodeJupyterKernelCrash'>here</a> for more info. \n",
      "\u001b[1;31mView Jupyter <a href='command:jupyter.viewOutput'>log</a> for further details."
     ]
    }
   ],
   "source": [
    "event_types = ['view', 'cart', 'purchase']\n",
    "\n",
    "event_by_hour = {}\n",
    "for event_type in event_types:\n",
    "    event_count = new_df[new_df.event_type == event_type].groupby(\"hour\")[\"event_type\"].count()\n",
    "    event_by_hour[event_type] = event_count\n",
    "\n",
    "event_by_hour = pd.DataFrame(event_by_hour)"
   ]
  },
  {
   "cell_type": "code",
   "execution_count": 1,
   "metadata": {},
   "outputs": [
    {
     "ename": "NameError",
     "evalue": "name 'px' is not defined",
     "output_type": "error",
     "traceback": [
      "\u001b[0;31m---------------------------------------------------------------------------\u001b[0m",
      "\u001b[0;31mNameError\u001b[0m                                 Traceback (most recent call last)",
      "Cell \u001b[0;32mIn[1], line 1\u001b[0m\n\u001b[0;32m----> 1\u001b[0m fig \u001b[38;5;241m=\u001b[39m px\u001b[38;5;241m.\u001b[39mbar(event_by_hour, x\u001b[38;5;241m=\u001b[39mevent_by_hour\u001b[38;5;241m.\u001b[39mindex, y\u001b[38;5;241m=\u001b[39mevent_types,\n\u001b[1;32m      2\u001b[0m              title\u001b[38;5;241m=\u001b[39m\u001b[38;5;124m\"\u001b[39m\u001b[38;5;124mDistribution of Events by Hour\u001b[39m\u001b[38;5;124m\"\u001b[39m,\n\u001b[1;32m      3\u001b[0m              labels\u001b[38;5;241m=\u001b[39m{\u001b[38;5;124m\"\u001b[39m\u001b[38;5;124mx\u001b[39m\u001b[38;5;124m\"\u001b[39m: \u001b[38;5;124m\"\u001b[39m\u001b[38;5;124mHour in a Day\u001b[39m\u001b[38;5;124m\"\u001b[39m, \u001b[38;5;124m\"\u001b[39m\u001b[38;5;124my\u001b[39m\u001b[38;5;124m\"\u001b[39m: \u001b[38;5;124m\"\u001b[39m\u001b[38;5;124mNumber of Events\u001b[39m\u001b[38;5;124m\"\u001b[39m},\n\u001b[1;32m      4\u001b[0m              template\u001b[38;5;241m=\u001b[39m\u001b[38;5;124m\"\u001b[39m\u001b[38;5;124mplotly_white\u001b[39m\u001b[38;5;124m\"\u001b[39m)\n\u001b[1;32m      7\u001b[0m fig\u001b[38;5;241m.\u001b[39mshow()\n",
      "\u001b[0;31mNameError\u001b[0m: name 'px' is not defined"
     ]
    }
   ],
   "source": [
    "for event_type in event_types:\n",
    "    event_by_hour[f'{event_type}_percent'] = event_by_hour[event_type] / event_by_hour[event_type].sum() * 100\n",
    "\n",
    "# Line plot\n",
    "plt.figure(figsize=(12, 6))\n",
    "for event_type in event_types:\n",
    "    plt.plot(event_by_hour.index, event_by_hour[f'{event_type}_percent'], label=f'{event_type}_percent')\n",
    "\n",
    "plt.title(\"Percentage Distribution of Events by Hour\")\n",
    "plt.xlabel(\"Hour in a Day\")\n",
    "plt.ylabel(\"Percentage\")\n",
    "plt.legend()\n",
    "plt.grid(True)\n",
    "plt.show()"
   ]
  },
  {
   "cell_type": "code",
   "execution_count": 26,
   "metadata": {},
   "outputs": [
    {
     "ename": "KeyError",
     "evalue": "'weekday'",
     "output_type": "error",
     "traceback": [
      "\u001b[0;31m---------------------------------------------------------------------------\u001b[0m",
      "\u001b[0;31mKeyError\u001b[0m                                  Traceback (most recent call last)",
      "Cell \u001b[0;32mIn[26], line 1\u001b[0m\n\u001b[0;32m----> 1\u001b[0m order_per_weekday \u001b[38;5;241m=\u001b[39m new_df[new_df\u001b[38;5;241m.\u001b[39mevent_type \u001b[38;5;241m==\u001b[39m \u001b[38;5;124m\"\u001b[39m\u001b[38;5;124mpurchase\u001b[39m\u001b[38;5;124m\"\u001b[39m]\u001b[38;5;241m.\u001b[39mgroupby(\u001b[38;5;124m\"\u001b[39m\u001b[38;5;124mweekday\u001b[39m\u001b[38;5;124m\"\u001b[39m)[\u001b[38;5;124m\"\u001b[39m\u001b[38;5;124mevent_type\u001b[39m\u001b[38;5;124m\"\u001b[39m]\u001b[38;5;241m.\u001b[39mcount()\u001b[38;5;241m.\u001b[39mreset_index()\n\u001b[1;32m      2\u001b[0m order_per_weekday\u001b[38;5;241m.\u001b[39mhead(\u001b[38;5;241m10\u001b[39m)\n",
      "File \u001b[0;32m/opt/anaconda3/lib/python3.11/site-packages/pandas/core/frame.py:8869\u001b[0m, in \u001b[0;36mDataFrame.groupby\u001b[0;34m(self, by, axis, level, as_index, sort, group_keys, observed, dropna)\u001b[0m\n\u001b[1;32m   8866\u001b[0m \u001b[38;5;28;01mif\u001b[39;00m level \u001b[38;5;129;01mis\u001b[39;00m \u001b[38;5;28;01mNone\u001b[39;00m \u001b[38;5;129;01mand\u001b[39;00m by \u001b[38;5;129;01mis\u001b[39;00m \u001b[38;5;28;01mNone\u001b[39;00m:\n\u001b[1;32m   8867\u001b[0m     \u001b[38;5;28;01mraise\u001b[39;00m \u001b[38;5;167;01mTypeError\u001b[39;00m(\u001b[38;5;124m\"\u001b[39m\u001b[38;5;124mYou have to supply one of \u001b[39m\u001b[38;5;124m'\u001b[39m\u001b[38;5;124mby\u001b[39m\u001b[38;5;124m'\u001b[39m\u001b[38;5;124m and \u001b[39m\u001b[38;5;124m'\u001b[39m\u001b[38;5;124mlevel\u001b[39m\u001b[38;5;124m'\u001b[39m\u001b[38;5;124m\"\u001b[39m)\n\u001b[0;32m-> 8869\u001b[0m \u001b[38;5;28;01mreturn\u001b[39;00m DataFrameGroupBy(\n\u001b[1;32m   8870\u001b[0m     obj\u001b[38;5;241m=\u001b[39m\u001b[38;5;28mself\u001b[39m,\n\u001b[1;32m   8871\u001b[0m     keys\u001b[38;5;241m=\u001b[39mby,\n\u001b[1;32m   8872\u001b[0m     axis\u001b[38;5;241m=\u001b[39maxis,\n\u001b[1;32m   8873\u001b[0m     level\u001b[38;5;241m=\u001b[39mlevel,\n\u001b[1;32m   8874\u001b[0m     as_index\u001b[38;5;241m=\u001b[39mas_index,\n\u001b[1;32m   8875\u001b[0m     sort\u001b[38;5;241m=\u001b[39msort,\n\u001b[1;32m   8876\u001b[0m     group_keys\u001b[38;5;241m=\u001b[39mgroup_keys,\n\u001b[1;32m   8877\u001b[0m     observed\u001b[38;5;241m=\u001b[39mobserved,\n\u001b[1;32m   8878\u001b[0m     dropna\u001b[38;5;241m=\u001b[39mdropna,\n\u001b[1;32m   8879\u001b[0m )\n",
      "File \u001b[0;32m/opt/anaconda3/lib/python3.11/site-packages/pandas/core/groupby/groupby.py:1278\u001b[0m, in \u001b[0;36mGroupBy.__init__\u001b[0;34m(self, obj, keys, axis, level, grouper, exclusions, selection, as_index, sort, group_keys, observed, dropna)\u001b[0m\n\u001b[1;32m   1275\u001b[0m \u001b[38;5;28mself\u001b[39m\u001b[38;5;241m.\u001b[39mdropna \u001b[38;5;241m=\u001b[39m dropna\n\u001b[1;32m   1277\u001b[0m \u001b[38;5;28;01mif\u001b[39;00m grouper \u001b[38;5;129;01mis\u001b[39;00m \u001b[38;5;28;01mNone\u001b[39;00m:\n\u001b[0;32m-> 1278\u001b[0m     grouper, exclusions, obj \u001b[38;5;241m=\u001b[39m get_grouper(\n\u001b[1;32m   1279\u001b[0m         obj,\n\u001b[1;32m   1280\u001b[0m         keys,\n\u001b[1;32m   1281\u001b[0m         axis\u001b[38;5;241m=\u001b[39maxis,\n\u001b[1;32m   1282\u001b[0m         level\u001b[38;5;241m=\u001b[39mlevel,\n\u001b[1;32m   1283\u001b[0m         sort\u001b[38;5;241m=\u001b[39msort,\n\u001b[1;32m   1284\u001b[0m         observed\u001b[38;5;241m=\u001b[39m\u001b[38;5;28;01mFalse\u001b[39;00m \u001b[38;5;28;01mif\u001b[39;00m observed \u001b[38;5;129;01mis\u001b[39;00m lib\u001b[38;5;241m.\u001b[39mno_default \u001b[38;5;28;01melse\u001b[39;00m observed,\n\u001b[1;32m   1285\u001b[0m         dropna\u001b[38;5;241m=\u001b[39m\u001b[38;5;28mself\u001b[39m\u001b[38;5;241m.\u001b[39mdropna,\n\u001b[1;32m   1286\u001b[0m     )\n\u001b[1;32m   1288\u001b[0m \u001b[38;5;28;01mif\u001b[39;00m observed \u001b[38;5;129;01mis\u001b[39;00m lib\u001b[38;5;241m.\u001b[39mno_default:\n\u001b[1;32m   1289\u001b[0m     \u001b[38;5;28;01mif\u001b[39;00m \u001b[38;5;28many\u001b[39m(ping\u001b[38;5;241m.\u001b[39m_passed_categorical \u001b[38;5;28;01mfor\u001b[39;00m ping \u001b[38;5;129;01min\u001b[39;00m grouper\u001b[38;5;241m.\u001b[39mgroupings):\n",
      "File \u001b[0;32m/opt/anaconda3/lib/python3.11/site-packages/pandas/core/groupby/grouper.py:1009\u001b[0m, in \u001b[0;36mget_grouper\u001b[0;34m(obj, key, axis, level, sort, observed, validate, dropna)\u001b[0m\n\u001b[1;32m   1007\u001b[0m         in_axis, level, gpr \u001b[38;5;241m=\u001b[39m \u001b[38;5;28;01mFalse\u001b[39;00m, gpr, \u001b[38;5;28;01mNone\u001b[39;00m\n\u001b[1;32m   1008\u001b[0m     \u001b[38;5;28;01melse\u001b[39;00m:\n\u001b[0;32m-> 1009\u001b[0m         \u001b[38;5;28;01mraise\u001b[39;00m \u001b[38;5;167;01mKeyError\u001b[39;00m(gpr)\n\u001b[1;32m   1010\u001b[0m \u001b[38;5;28;01melif\u001b[39;00m \u001b[38;5;28misinstance\u001b[39m(gpr, Grouper) \u001b[38;5;129;01mand\u001b[39;00m gpr\u001b[38;5;241m.\u001b[39mkey \u001b[38;5;129;01mis\u001b[39;00m \u001b[38;5;129;01mnot\u001b[39;00m \u001b[38;5;28;01mNone\u001b[39;00m:\n\u001b[1;32m   1011\u001b[0m     \u001b[38;5;66;03m# Add key to exclusions\u001b[39;00m\n\u001b[1;32m   1012\u001b[0m     exclusions\u001b[38;5;241m.\u001b[39madd(gpr\u001b[38;5;241m.\u001b[39mkey)\n",
      "\u001b[0;31mKeyError\u001b[0m: 'weekday'"
     ]
    }
   ],
   "source": [
    "order_per_weekday = new_df[new_df.event_type == \"purchase\"].groupby(\"weekday\")[\"event_type\"].count().reset_index()\n",
    "order_per_weekday.head(10)\n",
    "\n"
   ]
  },
  {
   "cell_type": "code",
   "execution_count": null,
   "metadata": {
    "vscode": {
     "languageId": "r"
    }
   },
   "outputs": [],
   "source": [
    "average_sales_per_weekday = order_per_weekday.groupby(\"weekday\")[\"event_type\"].mean().reset_index()\n",
    "weekday_names = {\n",
    "    0: \"Monday\",\n",
    "    1: \"Tuesday\",\n",
    "    2: \"Wednesday\",\n",
    "    3: \"Thursday\",\n",
    "    4: \"Friday\",\n",
    "    5: \"Saturday\",\n",
    "    6: \"Sunday\"\n",
    "}\n",
    "average_sales_per_weekday[\"weekday\"] = average_sales_per_weekday[\"weekday\"].map(weekday_names)\n",
    "\n",
    "average_sales_per_weekday[\"weekday\"] = pd.Categorical(average_sales_per_weekday[\"weekday\"],categories=[\"Monday\",\"Tuesday\",\"Wednesday\",\"Thursday\",\"Friday\",\"Saturday\",\"Sunday\"],ordered=True)\n",
    "average_sales_per_weekday = average_sales_per_weekday.sort_values(\"weekday\")\n",
    "\n",
    "plt.figure(figsize=(10, 6))\n",
    "plt.bar(average_sales_per_weekday[\"weekday\"], average_sales_per_weekday[\"event_type\"], color='skyblue')\n",
    "plt.xlabel('Weekday')\n",
    "plt.ylabel('Average Sales')\n",
    "plt.title('Average Sales per Weekday')\n",
    "plt.xticks(rotation=45)\n",
    "plt.tight_layout()\n",
    "\n",
    "plt.show()"
   ]
  },
  {
   "cell_type": "code",
   "execution_count": null,
   "metadata": {},
   "outputs": [],
   "source": []
  },
  {
   "cell_type": "code",
   "execution_count": null,
   "metadata": {},
   "outputs": [],
   "source": [
    "\n"
   ]
  }
 ],
 "metadata": {
  "kernelspec": {
   "display_name": "Python 3",
   "language": "python",
   "name": "python3"
  },
  "language_info": {
   "codemirror_mode": {
    "name": "ipython",
    "version": 3
   },
   "file_extension": ".py",
   "mimetype": "text/x-python",
   "name": "python",
   "nbconvert_exporter": "python",
   "pygments_lexer": "ipython3",
   "version": "3.11.7"
  }
 },
 "nbformat": 4,
 "nbformat_minor": 2
}
